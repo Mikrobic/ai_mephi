{
  "nbformat": 4,
  "nbformat_minor": 0,
  "metadata": {
    "colab": {
      "provenance": []
    },
    "kernelspec": {
      "name": "python3",
      "display_name": "Python 3"
    },
    "language_info": {
      "name": "python"
    }
  },
  "cells": [
    {
      "cell_type": "markdown",
      "source": [
        "# Лекция №3.1: Практическая работа"
      ],
      "metadata": {
        "id": "intro_heading"
      }
    },
    {
      "cell_type": "markdown",
      "source": [
        "## 1. Синтаксис строк"
      ],
      "metadata": {
        "id": "syntax_heading"
      }
    },
    {
      "cell_type": "markdown",
      "source": [
        "Строки в Python можно создавать с помощью одинарных, двойных или тройных кавычек. Тройные кавычки удобны для многострочного текста."
      ],
      "metadata": {
        "id": "syntax_desc"
      }
    },
    {
      "cell_type": "code",
      "source": [
        "single_quoted = 'Пример строки в одинарных кавычках.'\n",
        "double_quoted = \"Пример строки в двойных кавычках.\"\n",
        "multi_line = '''Это\n",
        "многострочная\n",
        "строка.'''"
      ],
      "metadata": {
        "id": "NKKwgmH5z6GM"
      },
      "execution_count": null,
      "outputs": []
    },
    {
      "cell_type": "code",
      "source": [
        "print(single_quoted)\n",
        "print(double_quoted)\n",
        "print(multi_line)"
      ],
      "metadata": {
        "id": "syntax_code",
        "colab": {
          "base_uri": "https://localhost:8080/"
        },
        "outputId": "f586c5db-0334-40ab-9124-8a4843b5545f"
      },
      "execution_count": null,
      "outputs": [
        {
          "output_type": "stream",
          "name": "stdout",
          "text": [
            "Пример строки в одинарных кавычках.\n",
            "Пример строки в двойных кавычках.\n",
            "Это\n",
            "многострочная\n",
            "строка.\n"
          ]
        }
      ]
    },
    {
      "cell_type": "markdown",
      "source": [
        "## 2. Операции над строками"
      ],
      "metadata": {
        "id": "ops_heading"
      }
    },
    {
      "cell_type": "markdown",
      "source": [
        "К строкам применимы операции конкатенации (+), повторения (*) и сравнения."
      ],
      "metadata": {
        "id": "ops_desc"
      }
    },
    {
      "cell_type": "code",
      "source": [
        "s1 = 'Hello,'\n",
        "s2 = ' world!'"
      ],
      "metadata": {
        "id": "DXC0Hf-t0FfF"
      },
      "execution_count": null,
      "outputs": []
    },
    {
      "cell_type": "code",
      "source": [
        "# Конкатенация\n",
        "s3 = s1 + s2\n",
        "print(f'Конкатенация: {s3}')"
      ],
      "metadata": {
        "id": "bW5OaK8n0GuK"
      },
      "execution_count": null,
      "outputs": []
    },
    {
      "cell_type": "code",
      "source": [
        "# Повторение\n",
        "s4 = 'Go' * 3\n",
        "print(f'Повторение: {s4}')"
      ],
      "metadata": {
        "id": "PV-zshh-0H4d"
      },
      "execution_count": null,
      "outputs": []
    },
    {
      "cell_type": "code",
      "source": [
        "# Длина\n",
        "print(f'Длина s3: {len(s3)}')"
      ],
      "metadata": {
        "id": "goySRgZ_0JpU"
      },
      "execution_count": null,
      "outputs": []
    },
    {
      "cell_type": "code",
      "source": [
        "# Сравнение\n",
        "print(f\"'apple' < 'banana': {'apple' < 'banana'}\")"
      ],
      "metadata": {
        "id": "ops_code"
      },
      "execution_count": null,
      "outputs": []
    },
    {
      "cell_type": "markdown",
      "source": [
        "### Неочевидный случай: `is` против `==`\n",
        "`==` сравнивает значения строк, а `is` проверяет, ссылаются ли переменные на один и тот же объект в памяти. Python может оптимизировать и \"интернировать\" короткие строки, из-за чего они могут ссылаться на один объект."
      ],
      "metadata": {
        "id": "ops_edge_case_desc"
      }
    },
    {
      "cell_type": "code",
      "source": [
        "a = 'hello'\n",
        "b = 'hello'\n",
        "c = ''.join(['h', 'e', 'l', 'l', 'o']) # Создаем строку динамически"
      ],
      "metadata": {
        "id": "u7AzxMKj0UHP"
      },
      "execution_count": null,
      "outputs": []
    },
    {
      "cell_type": "code",
      "source": [
        "print(f'a == b: {a == b}') # Значения равны"
      ],
      "metadata": {
        "colab": {
          "base_uri": "https://localhost:8080/"
        },
        "id": "hbQlhyJu0WVS",
        "outputId": "749f9d2d-44d0-43ef-9b57-c5c3615ebfde"
      },
      "execution_count": null,
      "outputs": [
        {
          "output_type": "stream",
          "name": "stdout",
          "text": [
            "a == b: True\n"
          ]
        }
      ]
    },
    {
      "cell_type": "code",
      "source": [
        "print(f'a is b: {a is b}') # Python интернировал строки, один объект"
      ],
      "metadata": {
        "colab": {
          "base_uri": "https://localhost:8080/"
        },
        "id": "AGAtLlLI0abB",
        "outputId": "d6eb8817-ca1d-4cbc-b01a-a5eb3563be70"
      },
      "execution_count": null,
      "outputs": [
        {
          "output_type": "stream",
          "name": "stdout",
          "text": [
            "a is b: True\n"
          ]
        }
      ]
    },
    {
      "cell_type": "code",
      "source": [
        "print(f'a == c: {a == c}') # Значения равны"
      ],
      "metadata": {
        "colab": {
          "base_uri": "https://localhost:8080/"
        },
        "id": "RFwr4bj-0a7J",
        "outputId": "0ffe4f3b-3cdf-41bf-ea66-829a5da7af30"
      },
      "execution_count": null,
      "outputs": [
        {
          "output_type": "stream",
          "name": "stdout",
          "text": [
            "a == c: True\n"
          ]
        }
      ]
    },
    {
      "cell_type": "code",
      "source": [
        "print(f'a is c: {a is c}') # Объекты разные"
      ],
      "metadata": {
        "id": "ops_edge_case_code",
        "colab": {
          "base_uri": "https://localhost:8080/"
        },
        "outputId": "180f04a5-d914-4c48-ba92-1a7d2dd05d1a"
      },
      "execution_count": null,
      "outputs": [
        {
          "output_type": "stream",
          "name": "stdout",
          "text": [
            "a is c: False\n"
          ]
        }
      ]
    },
    {
      "cell_type": "markdown",
      "source": [
        "## 3. Знакомство с индексами и срезами строк"
      ],
      "metadata": {
        "id": "slice_heading"
      }
    },
    {
      "cell_type": "markdown",
      "source": [
        "Индексы позволяют получить доступ к отдельному символу, а срезы — к целой подстроке. Индексация начинается с 0, также поддерживаются отрицательные индексы для доступа с конца строки."
      ],
      "metadata": {
        "id": "slice_desc"
      }
    },
    {
      "cell_type": "code",
      "source": [
        "s = 'программирование'"
      ],
      "metadata": {
        "id": "8UyMyHmK028F"
      },
      "execution_count": null,
      "outputs": []
    },
    {
      "cell_type": "code",
      "source": [],
      "metadata": {
        "id": "Bt2FNbUHI0OZ"
      },
      "execution_count": null,
      "outputs": []
    },
    {
      "cell_type": "code",
      "source": [
        "# Доступ по индексу\n",
        "print(f'Первый символ: {s[0]}')\n",
        "print(f'Последний символ: {s[-1]}')"
      ],
      "metadata": {
        "id": "buBUUM_q04n0"
      },
      "execution_count": null,
      "outputs": []
    },
    {
      "cell_type": "code",
      "source": [
        "# Срез\n",
        "print(f'Срез с 3 по 7 символ: {s[3:7]}')"
      ],
      "metadata": {
        "id": "MlmTHEND05y3"
      },
      "execution_count": null,
      "outputs": []
    },
    {
      "cell_type": "code",
      "source": [
        "# Срез до конца\n",
        "print(f'Срез с 8 символа до конца: {s[8:]}')"
      ],
      "metadata": {
        "id": "mZyK82wD06Ri"
      },
      "execution_count": null,
      "outputs": []
    },
    {
      "cell_type": "code",
      "source": [
        "# Переворот строки с помощью среза\n",
        "print(f'Перевернутая строка: {s[::-1]}')"
      ],
      "metadata": {
        "id": "slice_code"
      },
      "execution_count": null,
      "outputs": []
    },
    {
      "cell_type": "markdown",
      "source": [
        "### Необычные срезы"
      ],
      "metadata": {
        "id": "slice_edge_case_desc"
      }
    },
    {
      "cell_type": "code",
      "source": [
        "s = 'abcdefg'\n",
        "# Если начало среза > конец среза (при положительном шаге), результат - пустая строка\n",
        "print(f\"s[5:2]: '{s[5:2]}'\")"
      ],
      "metadata": {
        "id": "4cEOFZ-K08yZ",
        "colab": {
          "base_uri": "https://localhost:8080/"
        },
        "outputId": "0a9fc390-ae0a-46c7-e5b1-da3c40db92eb"
      },
      "execution_count": null,
      "outputs": [
        {
          "output_type": "stream",
          "name": "stdout",
          "text": [
            "s[5:2]: ''\n"
          ]
        }
      ]
    },
    {
      "cell_type": "code",
      "source": [
        "# Но с отрицательным шагом срез работает\n",
        "print(f\"s[5:2:-1]: '{s[5:2:-1]}'\")"
      ],
      "metadata": {
        "id": "slice_edge_case_code"
      },
      "execution_count": null,
      "outputs": []
    },
    {
      "cell_type": "code",
      "source": [],
      "metadata": {
        "colab": {
          "base_uri": "https://localhost:8080/"
        },
        "id": "4dGfVH52wQMw",
        "outputId": "7ac84957-8a00-4f88-f784-8f9c987c9ada"
      },
      "execution_count": null,
      "outputs": [
        {
          "output_type": "execute_result",
          "data": {
            "text/plain": [
              "True"
            ]
          },
          "metadata": {},
          "execution_count": 4
        }
      ]
    },
    {
      "cell_type": "markdown",
      "source": [
        "## 4. Основные методы строк"
      ],
      "metadata": {
        "id": "methods_heading"
      }
    },
    {
      "cell_type": "markdown",
      "source": [
        "Строки как объекты имеют множество полезных методов для преобразования и поиска."
      ],
      "metadata": {
        "id": "methods_desc"
      }
    },
    {
      "cell_type": "code",
      "source": [
        "text = '   Python это Весело!   '\n",
        "\n",
        "print(f\"Оригинал: '{text}'\")\n",
        "print(f\"Верхний регистр: {text.upper()}\")\n",
        "print(f\"Нижний регистр: {text.lower()}\")\n",
        "print(f\"Без пробелов по краям: '{text.strip()}'\")\n",
        "print(f\"Замена 'Весело' на 'Мощно': {text.replace('Весело', 'Мощно')}\")\n",
        "print(f\"Поиск 'это': индекс {text.find('это')}\")\n",
        "print(f\"Разделение по пробелу: {text.strip().split(' ')}\")"
      ],
      "metadata": {
        "id": "methods_code"
      },
      "execution_count": null,
      "outputs": []
    },
    {
      "cell_type": "markdown",
      "source": [
        "## 5. Спецсимволы, экранирование символов, raw-строки"
      ],
      "metadata": {
        "id": "escape_heading"
      }
    },
    {
      "cell_type": "markdown",
      "source": [
        "Спецсимволы, такие как `\\n` (перенос строки) и `\\t` (табуляция), управляют форматированием. Обратный слэш `\\` используется для экранирования. Raw-строки, начинающиеся с `r''`, игнорируют спецсимволы, что полезно, например, для путей файлов в Windows."
      ],
      "metadata": {
        "id": "escape_desc"
      }
    },
    {
      "cell_type": "code",
      "source": [
        "print('Пример\\nпереноса строки.')"
      ],
      "metadata": {
        "colab": {
          "base_uri": "https://localhost:8080/"
        },
        "id": "tY8tsZp_2B_I",
        "outputId": "c060ed01-613b-48f8-ab40-61f50012180f"
      },
      "execution_count": null,
      "outputs": [
        {
          "output_type": "stream",
          "name": "stdout",
          "text": [
            "Пример\n",
            "переноса строки.\n"
          ]
        }
      ]
    },
    {
      "cell_type": "code",
      "source": [
        "text = \"student needs \\\\n python\"\n",
        "print(text)"
      ],
      "metadata": {
        "colab": {
          "base_uri": "https://localhost:8080/"
        },
        "id": "uSrTGhf6hRyL",
        "outputId": "f8b74faa-4012-49f4-ffce-b7174542d55b"
      },
      "execution_count": null,
      "outputs": [
        {
          "output_type": "stream",
          "name": "stdout",
          "text": [
            "student needs \\n python\n"
          ]
        }
      ]
    },
    {
      "cell_type": "code",
      "source": [
        "s = \"Автомобильный завод \"ВАЗ\"\""
      ],
      "metadata": {
        "colab": {
          "base_uri": "https://localhost:8080/",
          "height": 106
        },
        "id": "6Y8x13l9iDeY",
        "outputId": "cc4f0470-f26b-4e92-8115-44ed9cf21e54"
      },
      "execution_count": null,
      "outputs": [
        {
          "output_type": "error",
          "ename": "SyntaxError",
          "evalue": "invalid syntax (ipython-input-4166285855.py, line 1)",
          "traceback": [
            "\u001b[0;36m  File \u001b[0;32m\"/tmp/ipython-input-4166285855.py\"\u001b[0;36m, line \u001b[0;32m1\u001b[0m\n\u001b[0;31m    s = \"Автомобильный завод \"ВАЗ\"\"\u001b[0m\n\u001b[0m                              ^\u001b[0m\n\u001b[0;31mSyntaxError\u001b[0m\u001b[0;31m:\u001b[0m invalid syntax\n"
          ]
        }
      ]
    },
    {
      "cell_type": "code",
      "source": [
        "s = \"Автомобильный завод \\\"ВАЗ\\\"\"\n",
        "print(s)"
      ],
      "metadata": {
        "colab": {
          "base_uri": "https://localhost:8080/"
        },
        "id": "rFOnlYVEhhJs",
        "outputId": "d6b3ba11-ed65-48dc-9aa3-94b8c2d7ab08"
      },
      "execution_count": null,
      "outputs": [
        {
          "output_type": "stream",
          "name": "stdout",
          "text": [
            "Автомобильный завод \"ВАЗ\"\n"
          ]
        }
      ]
    },
    {
      "cell_type": "code",
      "source": [
        "print('Пример\\tтабуляции.')"
      ],
      "metadata": {
        "id": "9a65CrTo2Efj"
      },
      "execution_count": null,
      "outputs": []
    },
    {
      "cell_type": "code",
      "source": [
        "print('Чтобы вывести кавычки \\'внутри\\', их нужно экранировать.')"
      ],
      "metadata": {
        "id": "3kbxV-B42F3Y"
      },
      "execution_count": null,
      "outputs": []
    },
    {
      "cell_type": "code",
      "source": [
        "text = \"student \\needs\\ python\"\n",
        "print(text)"
      ],
      "metadata": {
        "id": "hfu5DWBIhzQS"
      },
      "execution_count": null,
      "outputs": []
    },
    {
      "cell_type": "code",
      "source": [
        "text = \"student \\\\needs\\\\ python\"\n",
        "print(text)"
      ],
      "metadata": {
        "id": "mcAKDm0kh3Ex"
      },
      "execution_count": null,
      "outputs": []
    },
    {
      "cell_type": "code",
      "source": [
        "path = \"D:\\Pycharm\\python\\text.txt\"\n",
        "print(path)"
      ],
      "metadata": {
        "id": "bwyMoMcSh5uB"
      },
      "execution_count": null,
      "outputs": []
    },
    {
      "cell_type": "code",
      "source": [
        "s = r\"This is a \\n raw string\"\n",
        "print(s)"
      ],
      "metadata": {
        "id": "-X-Zbz27icDX"
      },
      "execution_count": null,
      "outputs": []
    },
    {
      "cell_type": "code",
      "source": [
        "# Raw-строка\n",
        "path = r'C:\\Users\\Admin\\Documents'\n",
        "print(f'Путь в raw-строке: {path}')"
      ],
      "metadata": {
        "id": "escape_code"
      },
      "execution_count": null,
      "outputs": []
    },
    {
      "cell_type": "markdown",
      "source": [
        "## 6. Форматирование строк: метод format и f-строки"
      ],
      "metadata": {
        "id": "format_heading"
      }
    },
    {
      "cell_type": "markdown",
      "source": [
        "Для вставки переменных и выражений в строки используются метод `.format()` и более современный и удобный механизм f-строк."
      ],
      "metadata": {
        "id": "format_desc"
      }
    },
    {
      "cell_type": "code",
      "source": [
        "name = 'Иван'\n",
        "age = 25\n",
        "balance = 123.4567"
      ],
      "metadata": {
        "id": "ivNzmH3i2L4m"
      },
      "execution_count": null,
      "outputs": []
    },
    {
      "cell_type": "code",
      "source": [
        "# Метод .format()\n",
        "print('Пользователь {0}, возраст {1}.'.format(name, age))"
      ],
      "metadata": {
        "id": "ZDA185zC2NO5"
      },
      "execution_count": null,
      "outputs": []
    },
    {
      "cell_type": "code",
      "source": [
        "# F-строка (предпочтительный способ)\n",
        "print(f'Пользователь {name}, возраст {age}.')"
      ],
      "metadata": {
        "id": "vkMx9cQt2OVH"
      },
      "execution_count": null,
      "outputs": []
    },
    {
      "cell_type": "code",
      "source": [
        "# Форматирование чисел в f-строке\n",
        "print(f'Баланс: {balance:.2f}')"
      ],
      "metadata": {
        "id": "nvGBX8lZ2PLJ"
      },
      "execution_count": null,
      "outputs": []
    },
    {
      "cell_type": "code",
      "source": [
        "# Форматирование с выравниванием (10 символов, по центру)\n",
        "print(f\"Имя: |{name:^10}|\")"
      ],
      "metadata": {
        "id": "format_code"
      },
      "execution_count": null,
      "outputs": []
    },
    {
      "cell_type": "code",
      "source": [
        "# аргументы по умолчанию\n",
        "print(\"Hello {}, your balance is {}.\".format(\"Adam\", 230.2346))"
      ],
      "metadata": {
        "id": "mT46KpPjpwKx"
      },
      "execution_count": null,
      "outputs": []
    },
    {
      "cell_type": "code",
      "source": [
        "# позиционные аргументы\n",
        "print(\"Hello {0}, your balance is {1}.\".format(\"Adam\", 230.2346))"
      ],
      "metadata": {
        "id": "y3PjfxVep1Gf"
      },
      "execution_count": null,
      "outputs": []
    },
    {
      "cell_type": "code",
      "source": [
        "# аргументы ключевые слова\n",
        "print(\"Hello {name}, your balance is {blc}.\".format(name=\"Adam\", blc=230.2346))"
      ],
      "metadata": {
        "id": "E3tP3r6np4az"
      },
      "execution_count": null,
      "outputs": []
    },
    {
      "cell_type": "code",
      "source": [],
      "metadata": {
        "id": "kwnh_166SK0Z"
      },
      "execution_count": null,
      "outputs": []
    },
    {
      "cell_type": "code",
      "source": [
        "# смешанные аргументы\n",
        "print(\"Hello {0}, your balance is {blc}.\".format(\"Adam\", blc=230.2346))"
      ],
      "metadata": {
        "id": "nq2kmHfLp6GZ"
      },
      "execution_count": null,
      "outputs": []
    },
    {
      "cell_type": "code",
      "source": [
        "# целочисленные аргументы\n",
        "print(\"The number is:{:d}\".format(123))"
      ],
      "metadata": {
        "id": "CDm-OGGbp8Z6"
      },
      "execution_count": null,
      "outputs": []
    },
    {
      "cell_type": "code",
      "source": [
        "# аргументы с плавающей точкой\n",
        "print(\"The float number is:{:f}\".format(123.4567898))"
      ],
      "metadata": {
        "id": "ztLFR5dQqAYy"
      },
      "execution_count": null,
      "outputs": []
    },
    {
      "cell_type": "code",
      "source": [
        "# восьмеричный, двоичный и шестнадцатеричный формат\n",
        "print(\"bin: {0:b}, oct: {0:o}, hex: {0:x}\".format(12))"
      ],
      "metadata": {
        "id": "2KkXA9QFqCv1"
      },
      "execution_count": null,
      "outputs": []
    },
    {
      "cell_type": "code",
      "source": [
        "# целые числа с минимальной шириной\n",
        "print(\"{:5d}\".format(12))"
      ],
      "metadata": {
        "id": "sJ68oS56qy1Y"
      },
      "execution_count": null,
      "outputs": []
    },
    {
      "cell_type": "code",
      "source": [
        "# ширина не работает для чисел длиннее заполнения\n",
        "print(\"{:2d}\".format(1234))"
      ],
      "metadata": {
        "id": "I96n2F6rq0Lp"
      },
      "execution_count": null,
      "outputs": []
    },
    {
      "cell_type": "code",
      "source": [
        "# заполнение для чисел с плавающей точкой\n",
        "print(\"{:8.3f}\".format(12.2346))"
      ],
      "metadata": {
        "id": "eaYA2zqNq3a4"
      },
      "execution_count": null,
      "outputs": []
    },
    {
      "cell_type": "code",
      "source": [
        "# целые числа с минимальной шириной, заполненные нулями\n",
        "print(\"{:05d}\".format(12))"
      ],
      "metadata": {
        "colab": {
          "base_uri": "https://localhost:8080/"
        },
        "id": "BFz5WtqJq5qU",
        "outputId": "aad29ca9-009a-483c-8e8d-bab7df3de2e9"
      },
      "execution_count": null,
      "outputs": [
        {
          "output_type": "stream",
          "name": "stdout",
          "text": [
            "00012\n"
          ]
        }
      ]
    },
    {
      "cell_type": "code",
      "source": [
        "# заполнение для чисел с плавающей запятой, заполненных нулями\n",
        "print(\"{:08.3f}\".format(12.2346))"
      ],
      "metadata": {
        "id": "XJxpaagpq7tG"
      },
      "execution_count": null,
      "outputs": []
    },
    {
      "cell_type": "code",
      "source": [
        "# показать знак +\n",
        "print(\"{:+f} {:+f}\".format(12.23, -12.23))"
      ],
      "metadata": {
        "id": "JJDxMtT6rS9P"
      },
      "execution_count": null,
      "outputs": []
    },
    {
      "cell_type": "code",
      "source": [
        "# показать знак -\n",
        "print(\"{:-f} {:-f}\".format(12.23, -12.23))"
      ],
      "metadata": {
        "id": "jvVPI3U7rUGe"
      },
      "execution_count": null,
      "outputs": []
    },
    {
      "cell_type": "code",
      "source": [
        "# показать место для знака +\n",
        "print(\"{: f} {: f}\".format(12.23, -12.23))"
      ],
      "metadata": {
        "id": "lV7VFHJFrZOL"
      },
      "execution_count": null,
      "outputs": []
    },
    {
      "cell_type": "code",
      "source": [
        "# целые числа с выравниванием по правому краю\n",
        "print(\"{:5d}\".format(12))"
      ],
      "metadata": {
        "id": "KhgqvKUmslVR"
      },
      "execution_count": null,
      "outputs": []
    },
    {
      "cell_type": "code",
      "source": [
        "# числа с плавающей точкой с выравниванием по центру\n",
        "print(\"{:^10.3f}\".format(12.2346))"
      ],
      "metadata": {
        "id": "Asji2C8bsmxz"
      },
      "execution_count": null,
      "outputs": []
    },
    {
      "cell_type": "code",
      "source": [
        "# выравнивание целого числа по левому краю заполнено нулями\n",
        "print(\"{:<05d}\".format(12))"
      ],
      "metadata": {
        "id": "e_0T37Tosnr9"
      },
      "execution_count": null,
      "outputs": []
    },
    {
      "cell_type": "code",
      "source": [
        "# числа с плавающей точкой с выравниванием по центру\n",
        "print(\"{:=8.3f}\".format(-12.2346))"
      ],
      "metadata": {
        "id": "6HyHuu2pspCw"
      },
      "execution_count": null,
      "outputs": []
    },
    {
      "cell_type": "markdown",
      "source": [
        "## 7. Циклы и строки"
      ],
      "metadata": {
        "id": "loop_heading"
      }
    },
    {
      "cell_type": "markdown",
      "source": [
        "Главное в этом коде — поставить правильное условие в while. Это можно сделать двумя способами:\n",
        "i < len(name)\n",
        "i <= len(name) - 1\n",
        "они приведут к одному результату.\n"
      ],
      "metadata": {
        "id": "x6HnxDjOfjPB"
      }
    },
    {
      "cell_type": "code",
      "source": [
        "def print_name_by_symbol(name):\n",
        "  i = 0\n",
        "  # Такая проверка будет выполняться до конца строки,\n",
        "  # включая последний символ. Его индекс len(name) - 1\n",
        "  while i < len(name):\n",
        "    # Обращаемся к символу по индексу\n",
        "    print(name[i])\n",
        "    i += 1\n",
        "\n",
        "name = 'Arya'\n",
        "print_name_by_symbol(name)"
      ],
      "metadata": {
        "colab": {
          "base_uri": "https://localhost:8080/"
        },
        "id": "T-nbXBPTe6Wg",
        "outputId": "eb757d3b-3243-4b64-9b53-8a3d7a8d791f"
      },
      "execution_count": null,
      "outputs": [
        {
          "output_type": "stream",
          "name": "stdout",
          "text": [
            "A\n",
            "r\n",
            "y\n",
            "a\n"
          ]
        }
      ]
    },
    {
      "cell_type": "code",
      "source": [
        "def reverse_string(text):\n",
        "     result = ''\n",
        "     for char in text:\n",
        "        result = char + result\n",
        "     return result\n",
        "\n",
        "reverse_string('go!')\n"
      ],
      "metadata": {
        "colab": {
          "base_uri": "https://localhost:8080/",
          "height": 36
        },
        "id": "Dxpg4_TOfNNC",
        "outputId": "94560644-b3b9-4303-b6d2-ba44961cd42c"
      },
      "execution_count": null,
      "outputs": [
        {
          "output_type": "execute_result",
          "data": {
            "text/plain": [
              "'!og'"
            ],
            "application/vnd.google.colaboratory.intrinsic+json": {
              "type": "string"
            }
          },
          "metadata": {},
          "execution_count": 3
        }
      ]
    },
    {
      "cell_type": "markdown",
      "source": [
        "Цикл `for` позволяет легко перебирать символы строки."
      ],
      "metadata": {
        "id": "loop_desc"
      }
    },
    {
      "cell_type": "code",
      "source": [
        "text = 'Hello'\n",
        "reversed_text = ''\n",
        "\n",
        "for char in text:\n",
        "    print(f'Текущий символ: {char}')\n",
        "    reversed_text = char + reversed_text\n",
        "\n",
        "print(f'Перевернутая строка: {reversed_text}')"
      ],
      "metadata": {
        "id": "loop_code"
      },
      "execution_count": null,
      "outputs": []
    },
    {
      "cell_type": "code",
      "source": [
        "text = 'code'\n",
        "for symbol in text:\n",
        "    print(symbol)\n",
        "# c\n",
        "# o\n",
        "# d\n",
        "# e\n"
      ],
      "metadata": {
        "colab": {
          "base_uri": "https://localhost:8080/"
        },
        "id": "EFeGd9zpgbnm",
        "outputId": "fbc198f2-e556-46b0-a650-d6132beccaee"
      },
      "execution_count": null,
      "outputs": [
        {
          "output_type": "stream",
          "name": "stdout",
          "text": [
            "c\n",
            "o\n",
            "d\n",
            "e\n"
          ]
        }
      ]
    },
    {
      "cell_type": "code",
      "source": [
        "def chars_count(text, char):\n",
        "    result = 0\n",
        "    for current_char in text:\n",
        "        if current_char.lower() == char.lower():\n",
        "            result += 1\n",
        "    return result\n",
        "print(chars_count('Hello!', 'e')) # 1\n",
        "print(chars_count('heLLO Eva!', 'E')) # 2\n"
      ],
      "metadata": {
        "colab": {
          "base_uri": "https://localhost:8080/"
        },
        "id": "5Z2kqXk-gaBm",
        "outputId": "1762364b-295f-4022-9359-1aa6c86dea09"
      },
      "execution_count": null,
      "outputs": [
        {
          "output_type": "stream",
          "name": "stdout",
          "text": [
            "1\n",
            "2\n"
          ]
        }
      ]
    },
    {
      "cell_type": "code",
      "source": [
        "def reverse_string(string):\n",
        "  index = len(string) - 1\n",
        "  reversed_string = ''\n",
        "  while index >= 0:\n",
        "    current_char = string[index]\n",
        "    reversed_string = reversed_string + current_char\n",
        "    # То же самое через интерполяцию\n",
        "    # reversed_string = f'{reversed_string}{current_char}'\n",
        "    index = index - 1\n",
        "  return reversed_string\n",
        "\n",
        "print(reverse_string('Game Of Thrones')) # 'senorhT fO emaG'\n",
        "# Проверка нейтрального элемента\n",
        "print(reverse_string('')) # ''\n"
      ],
      "metadata": {
        "colab": {
          "base_uri": "https://localhost:8080/"
        },
        "id": "R_zCf3o6goQ5",
        "outputId": "824cc0f4-8c12-4d5f-da85-e79018bec891"
      },
      "execution_count": null,
      "outputs": [
        {
          "output_type": "stream",
          "name": "stdout",
          "text": [
            "senorhT fO emaG\n",
            "\n"
          ]
        }
      ]
    },
    {
      "cell_type": "markdown",
      "source": [
        "## 8. Знакомство со списками"
      ],
      "metadata": {
        "id": "list_intro_heading"
      }
    },
    {
      "cell_type": "markdown",
      "source": [
        "Списки — это изменяемые (мутабельные) упорядоченные коллекции элементов, которые могут быть разных типов. Создаются с помощью `[]`."
      ],
      "metadata": {
        "id": "list_intro_desc"
      }
    },
    {
      "cell_type": "code",
      "source": [
        "empty_list = []\n",
        "print(f'Пустой список: {empty_list}')"
      ],
      "metadata": {
        "id": "-4E_bbpz2mgS"
      },
      "execution_count": null,
      "outputs": []
    },
    {
      "cell_type": "code",
      "source": [
        "numbers = [1, 2, 3, 4, 5]\n",
        "print(f'Список чисел: {numbers}')"
      ],
      "metadata": {
        "id": "sHY9bLfK2ohe"
      },
      "execution_count": null,
      "outputs": []
    },
    {
      "cell_type": "code",
      "source": [
        "mixed_list = [10, 'текст', True, 3.14]\n",
        "print(f'Смешанный список: {mixed_list}')"
      ],
      "metadata": {
        "id": "yO1RhJ9J2rW3"
      },
      "execution_count": null,
      "outputs": []
    },
    {
      "cell_type": "code",
      "source": [
        "list_from_string = list('Python')\n",
        "print(f'Список из строки: {list_from_string}')"
      ],
      "metadata": {
        "id": "EkhfXXrk2tfc"
      },
      "execution_count": null,
      "outputs": []
    },
    {
      "cell_type": "markdown",
      "source": [
        "## 9. Основные операции со списками"
      ],
      "metadata": {
        "id": "list_ops_heading"
      }
    },
    {
      "cell_type": "markdown",
      "source": [
        "Списки поддерживают конкатенацию, повторение, индексацию и срезы. В отличие от строк, элементы списка можно изменять по индексу."
      ],
      "metadata": {
        "id": "list_ops_desc"
      }
    },
    {
      "cell_type": "code",
      "source": [
        "a = [1, 2, 3]\n",
        "b = [4, 5, 6]"
      ],
      "metadata": {
        "id": "uBreUhhO2zFH"
      },
      "execution_count": null,
      "outputs": []
    },
    {
      "cell_type": "code",
      "source": [
        "print(f'Конкатенация: {a + b}')\n",
        "print(f'Повторение: {a * 3}')"
      ],
      "metadata": {
        "colab": {
          "base_uri": "https://localhost:8080/"
        },
        "id": "vFs_4kz121MD",
        "outputId": "5de37b09-fc8d-41b4-acee-74393eafbe4c"
      },
      "execution_count": null,
      "outputs": [
        {
          "output_type": "stream",
          "name": "stdout",
          "text": [
            "Конкатенация: [1, 2, 3, 4, 5, 6]\n",
            "Повторение: [1, 2, 3, 1, 2, 3, 1, 2, 3]\n"
          ]
        }
      ]
    },
    {
      "cell_type": "code",
      "source": [
        "# Изменение элемента\n",
        "print(f'Исходный список a: {a}')\n",
        "a[1] = 99\n",
        "print(f'Измененный список a: {a}')"
      ],
      "metadata": {
        "id": "list_ops_code",
        "colab": {
          "base_uri": "https://localhost:8080/"
        },
        "outputId": "aee8f268-b80e-4d8a-98e6-b48438ab3220"
      },
      "execution_count": null,
      "outputs": [
        {
          "output_type": "stream",
          "name": "stdout",
          "text": [
            "Исходный список a: [1, 2, 3]\n",
            "Измененный список a: [1, 99, 3]\n"
          ]
        }
      ]
    },
    {
      "cell_type": "markdown",
      "source": [
        "### Повторение вложенных изменяемых объектов\n",
        "Если вы умножаете список, содержащий изменяемый объект (например, другой список), то создаются копии ссылок на этот объект, а не новые объекты."
      ],
      "metadata": {
        "id": "list_ops_edge_case_desc"
      }
    },
    {
      "cell_type": "code",
      "source": [
        "nested_list = [[]] * 3\n",
        "print(f'До изменения: {nested_list}')\n",
        "nested_list[0].append(1)\n",
        "print(f'После изменения: {nested_list}') # Изменились все элементы!"
      ],
      "metadata": {
        "id": "list_ops_edge_case_code",
        "colab": {
          "base_uri": "https://localhost:8080/"
        },
        "outputId": "feed6286-caed-489d-8550-e31a97f24caf"
      },
      "execution_count": null,
      "outputs": [
        {
          "output_type": "stream",
          "name": "stdout",
          "text": [
            "До изменения: [[], [], []]\n",
            "После изменения: [[1], [1], [1]]\n"
          ]
        }
      ]
    },
    {
      "cell_type": "markdown",
      "source": [
        "## 10. Методы списков"
      ],
      "metadata": {
        "id": "list_methods_heading"
      }
    },
    {
      "cell_type": "markdown",
      "source": [
        "Для работы со списками существует множество методов, которые изменяют список \"на месте\"."
      ],
      "metadata": {
        "id": "list_methods_desc"
      }
    },
    {
      "cell_type": "code",
      "source": [
        "items = ['apple', 'banana']\n",
        "print(f'Исходный: {items}')"
      ],
      "metadata": {
        "id": "jAfPMVap3F0v"
      },
      "execution_count": null,
      "outputs": []
    },
    {
      "cell_type": "code",
      "source": [
        "items.append('cherry') # Добавление в конец\n",
        "print(f\"После .append('cherry'): {items}\")"
      ],
      "metadata": {
        "id": "EUHdk4Gq3HEb"
      },
      "execution_count": null,
      "outputs": []
    },
    {
      "cell_type": "code",
      "source": [
        "items.insert(0, 'orange') # Вставка по индексу\n",
        "print(f\"После .insert(0, 'orange'): {items}\")"
      ],
      "metadata": {
        "id": "4Rxq8S0q3IO0"
      },
      "execution_count": null,
      "outputs": []
    },
    {
      "cell_type": "code",
      "source": [
        "items.extend(['mango', 'grape']) # Расширение списка другим списком\n",
        "print(f\"После .extend(...): {items}\")"
      ],
      "metadata": {
        "id": "ipVozwVQ3JF7"
      },
      "execution_count": null,
      "outputs": []
    },
    {
      "cell_type": "code",
      "source": [
        "removed_item = items.pop() # Удалить и вернуть последний элемент\n",
        "print(f\"Удаленный элемент: {removed_item}\")\n",
        "print(f\"Список после .pop(): {items}\")"
      ],
      "metadata": {
        "id": "JwTA1pfN3KSp"
      },
      "execution_count": null,
      "outputs": []
    },
    {
      "cell_type": "code",
      "source": [
        "items.reverse() # Перевернуть список\n",
        "print(f\"После .reverse(): {items}\")"
      ],
      "metadata": {
        "id": "XMVBsicZ3LNt"
      },
      "execution_count": null,
      "outputs": []
    },
    {
      "cell_type": "markdown",
      "source": [
        "## 11. Сортировка"
      ],
      "metadata": {
        "id": "sort_heading"
      }
    },
    {
      "cell_type": "markdown",
      "source": [
        "Метод `.sort()` изменяет список на месте, а встроенная функция `sorted()` возвращает новый отсортированный список, не меняя исходный. Параметр `key` позволяет задать функцию для кастомной сортировки."
      ],
      "metadata": {
        "id": "sort_desc"
      }
    },
    {
      "cell_type": "code",
      "source": [
        "numbers = [4, 1, 7, 3, -2]\n",
        "words = ['банан', 'яблоко', 'груша', 'апельсин']"
      ],
      "metadata": {
        "id": "XSUrzOU83g4j"
      },
      "execution_count": null,
      "outputs": []
    },
    {
      "cell_type": "code",
      "source": [
        "# sorted() - создает новый список\n",
        "sorted_list = sorted(numbers)\n",
        "print(f'Результат sorted(): {sorted_list}')"
      ],
      "metadata": {
        "id": "W3-UWElV3iu3"
      },
      "execution_count": null,
      "outputs": []
    },
    {
      "cell_type": "code",
      "source": [
        "# .sort() - изменяет список на месте\n",
        "numbers.sort(reverse=True)\n",
        "print(f'Результат .sort(reverse=True): {numbers}')"
      ],
      "metadata": {
        "id": "gSu4d2C13joe"
      },
      "execution_count": null,
      "outputs": []
    },
    {
      "cell_type": "code",
      "source": [
        "# Сортировка по ключу (длине слова)\n",
        "words.sort(key=len)\n",
        "print(f'Слова, отсортированные по длине: {words}')"
      ],
      "metadata": {
        "id": "sort_code"
      },
      "execution_count": null,
      "outputs": []
    },
    {
      "cell_type": "markdown",
      "source": [
        "## 12. Итераторы"
      ],
      "metadata": {
        "id": "iter_heading"
      }
    },
    {
      "cell_type": "markdown",
      "source": [
        "Итератор — это объект, который позволяет последовательно перебирать элементы коллекции. Функция `iter()` создает итератор, а `next()` получает следующий элемент."
      ],
      "metadata": {
        "id": "iter_desc"
      }
    },
    {
      "cell_type": "code",
      "source": [
        "my_list = ['a', 'b', 'c']\n",
        "my_iterator = iter(my_list)\n",
        "\n",
        "print(next(my_iterator))\n",
        "print(next(my_iterator))\n",
        "print(next(my_iterator))\n",
        "\n",
        "# Следующий вызов next(my_iterator) вызовет ошибку StopIteration"
      ],
      "metadata": {
        "id": "iter_code"
      },
      "execution_count": null,
      "outputs": []
    },
    {
      "cell_type": "markdown",
      "source": [
        "## 13. Генераторные выражения"
      ],
      "metadata": {
        "id": "gen_heading"
      }
    },
    {
      "cell_type": "markdown",
      "source": [
        "Генераторы списков (list comprehensions) — это компактный и читаемый способ создания списков. Генераторные выражения `( )` создают итератор, который вычисляет значения \"на лету\", экономя память."
      ],
      "metadata": {
        "id": "gen_desc"
      }
    },
    {
      "cell_type": "code",
      "source": [
        "# Генератор списка\n",
        "squares = [i**2 for i in range(10)]\n",
        "print(f'Квадраты (список): {squares}')"
      ],
      "metadata": {
        "id": "QB6zjmw-3612"
      },
      "execution_count": null,
      "outputs": []
    },
    {
      "cell_type": "code",
      "source": [
        "# Генераторное выражение (создает итератор)\n",
        "squares_gen = (i**2 for i in range(10))\n",
        "print(f'Генератор: {squares_gen}')\n",
        "print(f'Преобразование генератора в список: {list(squares_gen)}')"
      ],
      "metadata": {
        "id": "2J_y9hFw3-9j"
      },
      "execution_count": null,
      "outputs": []
    },
    {
      "cell_type": "code",
      "source": [
        "# Второй раз генератор будет пуст\n",
        "print(f'Второй проход по генератору: {list(squares_gen)}')"
      ],
      "metadata": {
        "id": "gen_code"
      },
      "execution_count": null,
      "outputs": []
    },
    {
      "cell_type": "markdown",
      "source": [
        "## 14. Кортежи"
      ],
      "metadata": {
        "id": "tuple_heading"
      }
    },
    {
      "cell_type": "markdown",
      "source": [
        "Кортежи (tuples) — это неизменяемые (иммутабельные) последовательности. Они похожи на списки, но после создания их нельзя изменить. Создаются с помощью `()`."
      ],
      "metadata": {
        "id": "tuple_desc"
      }
    },
    {
      "cell_type": "code",
      "source": [
        "my_tuple = (1, 'два', 3.0)\n",
        "print(f'Кортеж: {my_tuple}')"
      ],
      "metadata": {
        "id": "VeIctqyh8Inr"
      },
      "execution_count": null,
      "outputs": []
    },
    {
      "cell_type": "code",
      "source": [
        "# Кортеж из одного элемента требует запятой\n",
        "single_item_tuple = (99,)\n",
        "print(f'Кортеж из одного элемента: {single_item_tuple}')\n",
        "# Попытка изменить кортеж вызовет ошибку\n",
        "# my_tuple[0] = 100 # -> TypeError"
      ],
      "metadata": {
        "id": "-8qKeSbo8KRT"
      },
      "execution_count": null,
      "outputs": []
    },
    {
      "cell_type": "markdown",
      "source": [
        "### Изменяемые объекты внутри кортежа\n",
        "Сам кортеж неизменяем, но если он содержит изменяемый объект (например, список), то этот внутренний объект можно изменить."
      ],
      "metadata": {
        "id": "tuple_edge_case_desc"
      }
    },
    {
      "cell_type": "code",
      "source": [
        "tricky_tuple = (1, 2, [3, 4])\n",
        "print(f'Исходный кортеж: {tricky_tuple}')\n"
      ],
      "metadata": {
        "id": "tuple_edge_case_code",
        "colab": {
          "base_uri": "https://localhost:8080/"
        },
        "outputId": "3e341d8a-0359-4b6a-ddb8-ad191d6b5ba8"
      },
      "execution_count": null,
      "outputs": [
        {
          "output_type": "stream",
          "name": "stdout",
          "text": [
            "Исходный кортеж: (1, 2, [3, 4])\n",
            "Измененный кортеж: (1, 2, [3, 4, 5])\n"
          ]
        }
      ]
    },
    {
      "cell_type": "code",
      "source": [
        "tricky_tuple[2].append(5)\n",
        "print(f'Измененный кортеж: {tricky_tuple}')"
      ],
      "metadata": {
        "id": "L4ti5aHK8Tsc"
      },
      "execution_count": null,
      "outputs": []
    },
    {
      "cell_type": "markdown",
      "source": [
        "## 15. Практическая задача для понимания"
      ],
      "metadata": {
        "id": "task_heading"
      }
    },
    {
      "cell_type": "markdown",
      "source": [
        "**Условие:** У вас есть список строк, где каждая строка содержит информацию о студенте в формате \"Имя:Оценка1,Оценка2,Оценка3,...\".\n",
        "\n",
        "Напишите программу, которая выполняет следующие действия:\n",
        "\n",
        "1. Обрабатывает исходный список и для каждого студента вычисляет его средний балл.\n",
        "2. Находит студента с самым высоким средним баллом.\n",
        "3. Выводит на экран имя лучшего студента и его средний балл.\n",
        "\n",
        "Исходные данные:\n",
        "\n",
        "\n",
        "```\n",
        "data = [\"Анна:5,4,5,3\", \"Петр:3,4,4,5\", \"Светлана:5,5,5,5\", \"Иван:4,3,4,3\"]\n",
        "```\n",
        "\n"
      ],
      "metadata": {
        "id": "task_desc"
      }
    },
    {
      "cell_type": "markdown",
      "source": [
        "Сначала мы преобразуем список строк в более удобную структуру — список кортежей. Каждый кортеж будет содержать имя студента (строка) и список его оценок (числа)."
      ],
      "metadata": {
        "id": "_zcIQsNoAwTX"
      }
    },
    {
      "cell_type": "code",
      "source": [
        "# Исходные данные\n",
        "data = [\"Анна:5,4,5,3\", \"Петр:3,4,4,5\", \"Светлана:5,5,5,5\", \"Иван:4,3,4,3\"]\n",
        "\n",
        "# Список для хранения обработанных данных студентов\n",
        "processed_students = []\n",
        "\n",
        "# Проходим по каждой строке в исходном списке\n",
        "for student_string in data:\n",
        "    # Разделяем строку на имя и оценки по символу ':'\n",
        "    name, grades_string = student_string.split(':')\n",
        "\n",
        "    # Разделяем строку с оценками на отдельные оценки по символу ','\n",
        "    grades_as_strings = grades_string.split(',')\n",
        "\n",
        "    # Преобразуем список строк-оценок в список чисел\n",
        "    grades_as_integers = []\n",
        "    for grade in grades_as_strings:\n",
        "        grades_as_integers.append(int(grade))\n",
        "\n",
        "    # Создаем кортеж (имя, список_оценок) и добавляем его в наш список\n",
        "    student_tuple = (name, grades_as_integers)\n",
        "    processed_students.append(student_tuple)\n",
        "\n",
        "# На этом этапе `processed_students` будет выглядеть так:\n",
        "# [('Анна', [5, 4, 5, 3]), ('Петр', [3, 4, 4, 5]), ('Светлана', [5, 5, 5, 5]), ('Иван', [4, 3, 4, 3])]"
      ],
      "metadata": {
        "id": "task_code"
      },
      "execution_count": null,
      "outputs": []
    },
    {
      "cell_type": "markdown",
      "source": [
        "Теперь, имея список студентов с их оценками, мы можем рассчитать средний балл для каждого."
      ],
      "metadata": {
        "id": "k1E6a3xcAykO"
      }
    },
    {
      "cell_type": "code",
      "source": [
        "# Список для хранения кортежей (имя, средний_балл)\n",
        "average_scores = []\n",
        "\n",
        "# Проходим по списку обработанных данных\n",
        "for name, grades_list in processed_students:\n",
        "    # Считаем сумму оценок и делим на их количество\n",
        "    average = sum(grades_list) / len(grades_list)\n",
        "\n",
        "    # Добавляем кортеж (имя, средний_балл) в новый список\n",
        "    average_scores.append((name, average))\n",
        "\n",
        "# `average_scores` теперь: [('Анна', 4.25), ('Петр', 4.0), ('Светлана', 5.0), ('Иван', 3.5)]"
      ],
      "metadata": {
        "id": "hDs8rnNrAq9_"
      },
      "execution_count": null,
      "outputs": []
    },
    {
      "cell_type": "markdown",
      "source": [
        "Осталось найти студента с максимальным средним баллом в списке average_scores."
      ],
      "metadata": {
        "id": "UfLk8Rr3A00u"
      }
    },
    {
      "cell_type": "code",
      "source": [
        "# Инициализируем переменные для лучшего студента\n",
        "# Начнем с первого студента в списке как кандидата на лучшего\n",
        "top_student = average_scores[0]\n",
        "\n",
        "# Проходим по списку средних баллов, начиная со второго элемента\n",
        "for student in average_scores[1:]:\n",
        "    # Если средний балл текущего студента выше, чем у \"лучшего\" на данный момент\n",
        "    if student[1] > top_student[1]:\n",
        "        # Обновляем \"лучшего\" студента\n",
        "        top_student = student\n",
        "\n",
        "# Выводим результат\n",
        "print(f\"Лучший студент: {top_student[0]}\")\n",
        "print(f\"Средний балл: {top_student[1]}\")"
      ],
      "metadata": {
        "id": "f9CXRDqtAtk3"
      },
      "execution_count": null,
      "outputs": []
    }
  ]
}