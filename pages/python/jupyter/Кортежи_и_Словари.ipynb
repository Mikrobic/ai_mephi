{
  "nbformat": 4,
  "nbformat_minor": 0,
  "metadata": {
    "colab": {
      "provenance": []
    },
    "kernelspec": {
      "name": "python3",
      "display_name": "Python 3"
    },
    "language_info": {
      "name": "python"
    }
  },
  "cells": [
    {
      "cell_type": "markdown",
      "source": [
        "# **Словари**"
      ],
      "metadata": {
        "id": "9BG-QtI63JCq"
      }
    },
    {
      "cell_type": "markdown",
      "source": [
        "**Создание словаря**"
      ],
      "metadata": {
        "id": "wPyOlYVY_V77"
      }
    },
    {
      "cell_type": "code",
      "source": [
        "d = {}"
      ],
      "metadata": {
        "id": "3VkLTQ003sxT"
      },
      "execution_count": null,
      "outputs": []
    },
    {
      "cell_type": "code",
      "source": [
        "d = dict()"
      ],
      "metadata": {
        "id": "Jlq3iPGV3MJ8"
      },
      "execution_count": null,
      "outputs": []
    },
    {
      "cell_type": "code",
      "source": [
        "d = {\n",
        "    'name': 'John',\n",
        "    'age': 35\n",
        "    }"
      ],
      "metadata": {
        "id": "5YZJSIrG3zBO"
      },
      "execution_count": null,
      "outputs": []
    },
    {
      "cell_type": "code",
      "source": [
        "# Создание словаря по ключевым словам\n",
        "d = dict(name='John', age=35)"
      ],
      "metadata": {
        "id": "KVSKe0Ra3-Po"
      },
      "execution_count": null,
      "outputs": []
    },
    {
      "cell_type": "code",
      "source": [
        "# Создание словаря по парам «ключ: значение»\n",
        "d2 = dict([('name', 'John'), ('age', 40)])"
      ],
      "metadata": {
        "id": "bSe1Xfih4CxE"
      },
      "execution_count": null,
      "outputs": []
    },
    {
      "cell_type": "code",
      "source": [
        "# Получить все ключи\n",
        "d.keys()"
      ],
      "metadata": {
        "colab": {
          "base_uri": "https://localhost:8080/"
        },
        "id": "xRkawfVO32G7",
        "outputId": "be906d04-3699-4b9e-aab7-4bcd14b4926e"
      },
      "execution_count": null,
      "outputs": [
        {
          "output_type": "execute_result",
          "data": {
            "text/plain": [
              "dict_keys(['name', 'age'])"
            ]
          },
          "metadata": {},
          "execution_count": 2
        }
      ]
    },
    {
      "cell_type": "code",
      "source": [
        "# Получить все значения\n",
        "d.values()"
      ],
      "metadata": {
        "colab": {
          "base_uri": "https://localhost:8080/"
        },
        "id": "HWB0w_iV4WNc",
        "outputId": "7d76b957-5451-48ea-d2a7-9a3b67ca8d43"
      },
      "execution_count": null,
      "outputs": [
        {
          "output_type": "execute_result",
          "data": {
            "text/plain": [
              "dict_values(['John', 35])"
            ]
          },
          "metadata": {},
          "execution_count": 20
        }
      ]
    },
    {
      "cell_type": "code",
      "source": [
        "# Получить все пары «ключ: значение» (в виде списка кортежей)\n",
        "d.items()"
      ],
      "metadata": {
        "colab": {
          "base_uri": "https://localhost:8080/"
        },
        "id": "JpsJVPbm4b3i",
        "outputId": "b9f22108-af42-45d4-9738-f594123bcd26"
      },
      "execution_count": null,
      "outputs": [
        {
          "output_type": "execute_result",
          "data": {
            "text/plain": [
              "dict_items([('name', 'John'), ('age', 35)])"
            ]
          },
          "metadata": {},
          "execution_count": 21
        }
      ]
    },
    {
      "cell_type": "code",
      "source": [
        "# Объединение по ключам\n",
        "d.update(d2)\n",
        "d.items()"
      ],
      "metadata": {
        "colab": {
          "base_uri": "https://localhost:8080/"
        },
        "id": "5WwwTHTP4nWM",
        "outputId": "472b7b28-e860-4c79-f1ee-5c8bbea975d4"
      },
      "execution_count": null,
      "outputs": [
        {
          "output_type": "execute_result",
          "data": {
            "text/plain": [
              "dict_items([('name', 'John'), ('age', 40)])"
            ]
          },
          "metadata": {},
          "execution_count": 24
        }
      ]
    },
    {
      "cell_type": "markdown",
      "source": [
        "**2 способа получения значения по ключу**"
      ],
      "metadata": {
        "id": "SNhO87Ga6PmZ"
      }
    },
    {
      "cell_type": "code",
      "source": [
        "# Метод dict.get(key) и оператор dict[key] в Python используются для получения значения по ключу из словаря.\n",
        "#  Если ключ присутствует в словаре, то dict[key] вернет значение этого ключа. В противном случае Python сгенерирует исключение KeyError.\n",
        "#  Метод dict.get(key) ведет себя аналогично dict[key], если ключ присутствует в словаре.\n",
        "#  Однако если ключ отсутствует, он вернет значение по умолчанию, которое равно None, если не указано иное."
      ],
      "metadata": {
        "id": "dmhS2LxH4Ea9"
      },
      "execution_count": null,
      "outputs": []
    },
    {
      "cell_type": "code",
      "source": [
        "d.get('age')"
      ],
      "metadata": {
        "colab": {
          "base_uri": "https://localhost:8080/"
        },
        "id": "H837dKOV41at",
        "outputId": "3dec738e-7c98-4c61-8a1c-81bd82fb780b"
      },
      "execution_count": null,
      "outputs": [
        {
          "output_type": "execute_result",
          "data": {
            "text/plain": [
              "40"
            ]
          },
          "metadata": {},
          "execution_count": 31
        }
      ]
    },
    {
      "cell_type": "code",
      "source": [
        "d['age']"
      ],
      "metadata": {
        "colab": {
          "base_uri": "https://localhost:8080/"
        },
        "id": "hwsQEW1E5l3Y",
        "outputId": "e1ef616b-c156-41a0-dc2c-9c45bacdf027"
      },
      "execution_count": null,
      "outputs": [
        {
          "output_type": "execute_result",
          "data": {
            "text/plain": [
              "40"
            ]
          },
          "metadata": {},
          "execution_count": 32
        }
      ]
    },
    {
      "cell_type": "code",
      "source": [
        "d.get('sfd')"
      ],
      "metadata": {
        "id": "1AnLjLK66Ifz"
      },
      "execution_count": null,
      "outputs": []
    },
    {
      "cell_type": "code",
      "source": [
        "d['sfd']"
      ],
      "metadata": {
        "colab": {
          "base_uri": "https://localhost:8080/",
          "height": 144
        },
        "id": "G8CxQGIs6Kyf",
        "outputId": "26a416a2-0583-43ea-c39c-201b0520d3b9"
      },
      "execution_count": null,
      "outputs": [
        {
          "output_type": "error",
          "ename": "KeyError",
          "evalue": "'sfd'",
          "traceback": [
            "\u001b[0;31m---------------------------------------------------------------------------\u001b[0m",
            "\u001b[0;31mKeyError\u001b[0m                                  Traceback (most recent call last)",
            "\u001b[0;32m/tmp/ipython-input-1708211654.py\u001b[0m in \u001b[0;36m<cell line: 0>\u001b[0;34m()\u001b[0m\n\u001b[0;32m----> 1\u001b[0;31m \u001b[0md\u001b[0m\u001b[0;34m[\u001b[0m\u001b[0;34m'sfd'\u001b[0m\u001b[0;34m]\u001b[0m\u001b[0;34m\u001b[0m\u001b[0;34m\u001b[0m\u001b[0m\n\u001b[0m",
            "\u001b[0;31mKeyError\u001b[0m: 'sfd'"
          ]
        }
      ]
    },
    {
      "cell_type": "code",
      "source": [
        "# Добавление ключей или изменение значений, связанных с ключами\n",
        "d['age'] = 32\n",
        "d.items()"
      ],
      "metadata": {
        "colab": {
          "base_uri": "https://localhost:8080/"
        },
        "id": "o0rLBxuT6bHC",
        "outputId": "ed71a382-e7a9-46cc-beb2-470abc243fe3"
      },
      "execution_count": null,
      "outputs": [
        {
          "output_type": "execute_result",
          "data": {
            "text/plain": [
              "dict_items([('name', 'John'), ('age', 32)])"
            ]
          },
          "metadata": {},
          "execution_count": 37
        }
      ]
    },
    {
      "cell_type": "code",
      "source": [
        "# Установить по ключу, если ключ отсутствует – установить стандартное значение или None\n",
        "d.setdefault('date', '20.11.2000')"
      ],
      "metadata": {
        "colab": {
          "base_uri": "https://localhost:8080/",
          "height": 35
        },
        "id": "jlVf_shz7Zsq",
        "outputId": "cf8b8ac2-83d2-4d83-8088-fc2137d6c654"
      },
      "execution_count": null,
      "outputs": [
        {
          "output_type": "execute_result",
          "data": {
            "text/plain": [
              "'20.11.2000'"
            ],
            "application/vnd.google.colaboratory.intrinsic+json": {
              "type": "string"
            }
          },
          "metadata": {},
          "execution_count": 53
        }
      ]
    },
    {
      "cell_type": "code",
      "source": [
        "# Длина (количество сохраненных элементов)\n",
        "len(d)"
      ],
      "metadata": {
        "colab": {
          "base_uri": "https://localhost:8080/"
        },
        "id": "rDi8t6W36j6n",
        "outputId": "0b6d6ae8-d8d4-466e-a4c8-a788e1a506be"
      },
      "execution_count": null,
      "outputs": [
        {
          "output_type": "execute_result",
          "data": {
            "text/plain": [
              "3"
            ]
          },
          "metadata": {},
          "execution_count": 54
        }
      ]
    },
    {
      "cell_type": "code",
      "source": [
        "#Получить список ключей, значений и тд.\n",
        "list(d.keys())\n",
        "list(d.values())\n",
        "list(d.items())"
      ],
      "metadata": {
        "colab": {
          "base_uri": "https://localhost:8080/"
        },
        "id": "S8YFTy_e643s",
        "outputId": "a6630e04-9673-491c-b959-43dc6f2338e8"
      },
      "execution_count": null,
      "outputs": [
        {
          "output_type": "execute_result",
          "data": {
            "text/plain": [
              "[('name', 'John'), ('age', 32), ('date', '20.11.2000')]"
            ]
          },
          "metadata": {},
          "execution_count": 55
        }
      ]
    },
    {
      "cell_type": "code",
      "source": [
        "# Удаление по ключу, если ключ отсутствует – возвращается стандартное значение или вызывается (ошибка)\n",
        "d.pop('date')"
      ],
      "metadata": {
        "colab": {
          "base_uri": "https://localhost:8080/",
          "height": 35
        },
        "id": "exD6wg9X8dzX",
        "outputId": "9c85a54b-4066-474e-db19-c068acc4dc19"
      },
      "execution_count": null,
      "outputs": [
        {
          "output_type": "execute_result",
          "data": {
            "text/plain": [
              "'20.11.2000'"
            ],
            "application/vnd.google.colaboratory.intrinsic+json": {
              "type": "string"
            }
          },
          "metadata": {},
          "execution_count": 56
        }
      ]
    },
    {
      "cell_type": "code",
      "source": [
        "# Удаление и возвращение любой пары «ключ: значение»\n",
        "d.popitem()"
      ],
      "metadata": {
        "colab": {
          "base_uri": "https://localhost:8080/"
        },
        "id": "m2vCZ-q481Ze",
        "outputId": "19ef302a-d24d-4a4d-e475-6eea07c17123"
      },
      "execution_count": null,
      "outputs": [
        {
          "output_type": "execute_result",
          "data": {
            "text/plain": [
              "('age', 35)"
            ]
          },
          "metadata": {},
          "execution_count": 7
        }
      ]
    },
    {
      "cell_type": "code",
      "source": [
        "# Удаление всех элементов\n",
        "d.clear()"
      ],
      "metadata": {
        "id": "B6XRxw6W9EfH"
      },
      "execution_count": null,
      "outputs": []
    },
    {
      "cell_type": "code",
      "source": [
        "# Вложенные словари\n",
        "data = {\n",
        "    'name': 'John',\n",
        "    'jobs':['developer', 'professor'],\n",
        "    'web': 'www.john.org/john',\n",
        "    'home': {'state': 'Overworked', 'zip':13546}\n",
        "}\n",
        "data"
      ],
      "metadata": {
        "colab": {
          "base_uri": "https://localhost:8080/"
        },
        "id": "1JGnWpd49l9S",
        "outputId": "839a33fe-51dc-491c-8b52-381000c45976"
      },
      "execution_count": null,
      "outputs": [
        {
          "output_type": "execute_result",
          "data": {
            "text/plain": [
              "{'name': 'John',\n",
              " 'jobs': ['developer', 'professor'],\n",
              " 'web': 'www.john.org/john',\n",
              " 'home': {'state': 'Overworked', 'zip': 13546}}"
            ]
          },
          "metadata": {},
          "execution_count": 9
        }
      ]
    },
    {
      "cell_type": "code",
      "source": [
        "data['jobs'][1]"
      ],
      "metadata": {
        "colab": {
          "base_uri": "https://localhost:8080/",
          "height": 35
        },
        "id": "i3cKO9X5-PeX",
        "outputId": "62a20e9b-8a9a-4eb7-ff8a-c7d26da66628"
      },
      "execution_count": null,
      "outputs": [
        {
          "output_type": "execute_result",
          "data": {
            "text/plain": [
              "'professor'"
            ],
            "application/vnd.google.colaboratory.intrinsic+json": {
              "type": "string"
            }
          },
          "metadata": {},
          "execution_count": 10
        }
      ]
    },
    {
      "cell_type": "code",
      "source": [
        "# Инициализация словарей\n",
        "d = dict(zip(['a', 'b', 'c'], [1, 2, 3]))\n",
        "d"
      ],
      "metadata": {
        "colab": {
          "base_uri": "https://localhost:8080/"
        },
        "id": "NCOXp1Yx-DO5",
        "outputId": "8adf3e06-f970-497d-c159-c871f4c4b068"
      },
      "execution_count": null,
      "outputs": [
        {
          "output_type": "execute_result",
          "data": {
            "text/plain": [
              "{'a': 1, 'b': 2, 'c': 3}"
            ]
          },
          "metadata": {},
          "execution_count": 12
        }
      ]
    },
    {
      "cell_type": "code",
      "source": [
        "# Простой генератор словаря\n",
        "# Генераторы словарей выполняют подразумеваемый цикл, накапливая на каждом шаге результаты «ключ: значение» и используя их для заполнения нового словаря\n",
        "numbers = [1, 2, 3, 4, 5]\n",
        "square_dict = {x: x**2 for x in numbers}\n",
        "square_dict\n",
        "\n",
        "# Эквивалент\n",
        "# square_dict = {}\n",
        "# for x in numbers:\n",
        "#     square_dict[x] = x**2"
      ],
      "metadata": {
        "colab": {
          "base_uri": "https://localhost:8080/"
        },
        "id": "HQRLy-21_QEx",
        "outputId": "585e063b-7402-4f5b-aa29-d8a97c249922"
      },
      "execution_count": null,
      "outputs": [
        {
          "output_type": "execute_result",
          "data": {
            "text/plain": [
              "{1: 1, 2: 4, 3: 9, 4: 16, 5: 25}"
            ]
          },
          "metadata": {},
          "execution_count": 13
        }
      ]
    },
    {
      "cell_type": "code",
      "source": [
        "# Генератор словаря с условием\n",
        "numbers = [1, 2, 3, 4, 5]\n",
        "even_square_dict = {x: x**2 for x in numbers if x % 2 == 0}\n",
        "even_square_dict\n",
        "\n",
        "# Эквивалент\n",
        "# for x in numbers - перебирает все числа из списка\n",
        "\n",
        "# if x % 2 == 0 - фильтрует только четные числа (где остаток от деления на 2 равен 0)\n",
        "\n",
        "# x: - четное число становится ключом\n",
        "\n",
        "# x**2 - квадрат четного числа становится значением\n",
        "\n",
        "# even_square_dict = {}\n",
        "# for x in numbers:\n",
        "#     if x % 2 == 0:  # проверка на четность\n",
        "#         even_square_dict[x] = x**2"
      ],
      "metadata": {
        "colab": {
          "base_uri": "https://localhost:8080/"
        },
        "id": "me3aR99z_uZ3",
        "outputId": "bd7c407a-1710-4ea1-ae94-d7c1dd4ebc73"
      },
      "execution_count": null,
      "outputs": [
        {
          "output_type": "execute_result",
          "data": {
            "text/plain": [
              "{2: 4, 4: 16}"
            ]
          },
          "metadata": {},
          "execution_count": 14
        }
      ]
    },
    {
      "cell_type": "markdown",
      "source": [
        "# **Множества**"
      ],
      "metadata": {
        "id": "3CW3KEde_Qmg"
      }
    },
    {
      "cell_type": "code",
      "source": [
        "# Создание множества\n",
        "s = set()"
      ],
      "metadata": {
        "id": "Dg1kB2Sz_RyL"
      },
      "execution_count": null,
      "outputs": []
    },
    {
      "cell_type": "code",
      "source": [
        "s = {3, 6, '112'}\n",
        "type(s)"
      ],
      "metadata": {
        "colab": {
          "base_uri": "https://localhost:8080/"
        },
        "id": "GTo4aZgAz7P3",
        "outputId": "0a8302fd-44d4-418f-e8b8-4e0ade9ce5d5"
      },
      "execution_count": null,
      "outputs": [
        {
          "output_type": "execute_result",
          "data": {
            "text/plain": [
              "set"
            ]
          },
          "metadata": {},
          "execution_count": 4
        }
      ]
    },
    {
      "cell_type": "code",
      "source": [
        "s = {}\n",
        "type(s)"
      ],
      "metadata": {
        "colab": {
          "base_uri": "https://localhost:8080/"
        },
        "id": "eIQAbRYP0G2X",
        "outputId": "10d6cafc-dee9-46de-c7be-0003f4f474f4"
      },
      "execution_count": null,
      "outputs": [
        {
          "output_type": "execute_result",
          "data": {
            "text/plain": [
              "dict"
            ]
          },
          "metadata": {},
          "execution_count": 5
        }
      ]
    },
    {
      "cell_type": "code",
      "source": [
        "s = set('hello')\n",
        "s"
      ],
      "metadata": {
        "colab": {
          "base_uri": "https://localhost:8080/"
        },
        "id": "M5aFf7vs_5Rh",
        "outputId": "c8cf04c3-bcbc-4b78-dee5-174cbb25fe3a"
      },
      "execution_count": null,
      "outputs": [
        {
          "output_type": "execute_result",
          "data": {
            "text/plain": [
              "{'e', 'h', 'l', 'o'}"
            ]
          },
          "metadata": {},
          "execution_count": 78
        }
      ]
    },
    {
      "cell_type": "code",
      "source": [
        "s = set([100, 20, 30, 40, 50])\n",
        "s"
      ],
      "metadata": {
        "colab": {
          "base_uri": "https://localhost:8080/"
        },
        "id": "_rYcEuSoAD9a",
        "outputId": "10ebd652-18ca-4437-980b-df928f4ab53c"
      },
      "execution_count": null,
      "outputs": [
        {
          "output_type": "execute_result",
          "data": {
            "text/plain": [
              "{20, 30, 40, 50, 100}"
            ]
          },
          "metadata": {},
          "execution_count": 82
        }
      ]
    },
    {
      "cell_type": "code",
      "source": [
        "# Добавление в множество\n",
        "s.add(55)\n",
        "s"
      ],
      "metadata": {
        "colab": {
          "base_uri": "https://localhost:8080/"
        },
        "id": "HW2uIO06AQ-G",
        "outputId": "b4ac14cc-46f3-401a-f66c-a3d7f0690bf1"
      },
      "execution_count": null,
      "outputs": [
        {
          "output_type": "execute_result",
          "data": {
            "text/plain": [
              "{20, 30, 40, 50, 55, 100}"
            ]
          },
          "metadata": {},
          "execution_count": 90
        }
      ]
    },
    {
      "cell_type": "code",
      "source": [
        "# Удаление по значению, в случае отсутсвия - ошибка\n",
        "s.remove(55)\n",
        "s"
      ],
      "metadata": {
        "colab": {
          "base_uri": "https://localhost:8080/"
        },
        "id": "ziCoIVuwAxh4",
        "outputId": "c695d4e8-6da2-42fe-b1f7-edf3d58c4255"
      },
      "execution_count": null,
      "outputs": [
        {
          "output_type": "execute_result",
          "data": {
            "text/plain": [
              "{20, 30, 40, 50, 100}"
            ]
          },
          "metadata": {},
          "execution_count": 91
        }
      ]
    },
    {
      "cell_type": "code",
      "source": [
        "# Удаление по значению, в случае отсутсвия - ошибки не будет\n",
        "s.discard(2)\n",
        "s"
      ],
      "metadata": {
        "colab": {
          "base_uri": "https://localhost:8080/"
        },
        "id": "ce-55iNbBoJY",
        "outputId": "e93fd5aa-64bd-4ee2-d50f-1b702d9c7892"
      },
      "execution_count": null,
      "outputs": [
        {
          "output_type": "execute_result",
          "data": {
            "text/plain": [
              "{20, 30, 40, 50, 100}"
            ]
          },
          "metadata": {},
          "execution_count": 93
        }
      ]
    },
    {
      "cell_type": "code",
      "source": [
        "# Очищает множество\n",
        "s.clear()\n",
        "s"
      ],
      "metadata": {
        "colab": {
          "base_uri": "https://localhost:8080/"
        },
        "id": "7xOCHtofBwbF",
        "outputId": "596a9bf1-febb-497e-fe11-4d896b969644"
      },
      "execution_count": null,
      "outputs": [
        {
          "output_type": "execute_result",
          "data": {
            "text/plain": [
              "set()"
            ]
          },
          "metadata": {},
          "execution_count": 95
        }
      ]
    },
    {
      "cell_type": "code",
      "source": [
        "# Операция объединения множеств - a.union(b)\n",
        "a = set([1, 2, 3])\n",
        "b = set([1, 'a', 'b', 'c'])\n",
        "c = a|b\n",
        "c"
      ],
      "metadata": {
        "colab": {
          "base_uri": "https://localhost:8080/"
        },
        "id": "cO3n9WRYCVhO",
        "outputId": "a6e66064-4c5b-421b-f58e-bf9c114db9f7"
      },
      "execution_count": null,
      "outputs": [
        {
          "output_type": "execute_result",
          "data": {
            "text/plain": [
              "{1, 2, 3, 'a', 'b', 'c'}"
            ]
          },
          "metadata": {},
          "execution_count": 100
        }
      ]
    },
    {
      "cell_type": "code",
      "source": [
        "# Операция пересечения множеств - a.itersection(b)\n",
        "w = a&b\n",
        "w"
      ],
      "metadata": {
        "colab": {
          "base_uri": "https://localhost:8080/"
        },
        "id": "4_vSJ3xfCbIm",
        "outputId": "d2eee13e-9c9e-46a0-eb54-06297314175a"
      },
      "execution_count": null,
      "outputs": [
        {
          "output_type": "execute_result",
          "data": {
            "text/plain": [
              "{1}"
            ]
          },
          "metadata": {},
          "execution_count": 102
        }
      ]
    },
    {
      "cell_type": "code",
      "source": [
        "# Операция разности множеств - a.difference(b)\n",
        "dif1 = a-b\n",
        "dif1"
      ],
      "metadata": {
        "colab": {
          "base_uri": "https://localhost:8080/"
        },
        "id": "Q-vkvKbeDGs7",
        "outputId": "d39c4e97-867c-40e7-b957-9fabdc35e655"
      },
      "execution_count": null,
      "outputs": [
        {
          "output_type": "execute_result",
          "data": {
            "text/plain": [
              "{2, 3}"
            ]
          },
          "metadata": {},
          "execution_count": 104
        }
      ]
    },
    {
      "cell_type": "code",
      "source": [
        "# Операция разности множеств\n",
        "dif2 = b-a\n",
        "dif2"
      ],
      "metadata": {
        "colab": {
          "base_uri": "https://localhost:8080/"
        },
        "id": "6iEebl-eDg3Z",
        "outputId": "f03b467b-5167-4a7b-c702-b07f3e73201c"
      },
      "execution_count": null,
      "outputs": [
        {
          "output_type": "execute_result",
          "data": {
            "text/plain": [
              "{'a', 'b', 'c'}"
            ]
          },
          "metadata": {},
          "execution_count": 105
        }
      ]
    },
    {
      "cell_type": "code",
      "source": [
        "# Операция симметрической разности множеств  - a.symmetric_difference(b)\n",
        "sim_dif = a^b\n",
        "sim_dif"
      ],
      "metadata": {
        "colab": {
          "base_uri": "https://localhost:8080/"
        },
        "id": "58B39ugwDoW4",
        "outputId": "c3551416-7ad1-4c82-d3e2-fc81ea3fdc3a"
      },
      "execution_count": null,
      "outputs": [
        {
          "output_type": "execute_result",
          "data": {
            "text/plain": [
              "{2, 3, 'a', 'b', 'c'}"
            ]
          },
          "metadata": {},
          "execution_count": 106
        }
      ]
    },
    {
      "cell_type": "code",
      "source": [
        "# Подмножества и надмножества\n",
        "a = {1, 2, 3, 4}\n",
        "b = {3, 4}"
      ],
      "metadata": {
        "id": "DhW5YC51D3ju"
      },
      "execution_count": null,
      "outputs": []
    },
    {
      "cell_type": "code",
      "source": [
        "b.issubset(a)"
      ],
      "metadata": {
        "colab": {
          "base_uri": "https://localhost:8080/"
        },
        "id": "qdVYs_MQD-2l",
        "outputId": "29fff35a-fd09-4d5f-b59a-c784282f9a82"
      },
      "execution_count": null,
      "outputs": [
        {
          "output_type": "execute_result",
          "data": {
            "text/plain": [
              "True"
            ]
          },
          "metadata": {},
          "execution_count": 108
        }
      ]
    },
    {
      "cell_type": "code",
      "source": [
        "a.issubset(b)"
      ],
      "metadata": {
        "colab": {
          "base_uri": "https://localhost:8080/"
        },
        "id": "WeDHw9kYEDV_",
        "outputId": "de61e581-b892-420a-dd23-262c6d284e08"
      },
      "execution_count": null,
      "outputs": [
        {
          "output_type": "execute_result",
          "data": {
            "text/plain": [
              "False"
            ]
          },
          "metadata": {},
          "execution_count": 110
        }
      ]
    },
    {
      "cell_type": "code",
      "source": [
        "a.issuperset(b)"
      ],
      "metadata": {
        "colab": {
          "base_uri": "https://localhost:8080/"
        },
        "id": "n1I2oaP5ECAB",
        "outputId": "66e5be1f-1bf1-4d85-b8c7-287e121bc1d4"
      },
      "execution_count": null,
      "outputs": [
        {
          "output_type": "execute_result",
          "data": {
            "text/plain": [
              "True"
            ]
          },
          "metadata": {},
          "execution_count": 109
        }
      ]
    },
    {
      "cell_type": "code",
      "source": [
        "# Простой генератор множества\n",
        "squares = {x**2 for x in range(1, 6)}\n",
        "squares"
      ],
      "metadata": {
        "colab": {
          "base_uri": "https://localhost:8080/"
        },
        "id": "yXBHTluNE_-2",
        "outputId": "e901243a-e912-4d32-82f7-113acdb0db56"
      },
      "execution_count": null,
      "outputs": [
        {
          "output_type": "execute_result",
          "data": {
            "text/plain": [
              "{1, 4, 9, 16, 25}"
            ]
          },
          "metadata": {},
          "execution_count": 111
        }
      ]
    },
    {
      "cell_type": "code",
      "source": [
        "text = \"hello world\"\n",
        "unique_chars = {char for char in text if char != ' '}\n",
        "print(unique_chars)"
      ],
      "metadata": {
        "colab": {
          "base_uri": "https://localhost:8080/"
        },
        "id": "rXQvm71PFKRV",
        "outputId": "c8202308-54cd-4602-c25e-29f31b7215c6"
      },
      "execution_count": null,
      "outputs": [
        {
          "output_type": "stream",
          "name": "stdout",
          "text": [
            "{'h', 'o', 'r', 'w', 'd', 'l', 'e'}\n"
          ]
        }
      ]
    },
    {
      "cell_type": "markdown",
      "source": [
        "**Пример использования множеств**"
      ],
      "metadata": {
        "id": "OW_eEOy4FYW1"
      }
    },
    {
      "cell_type": "code",
      "source": [
        "engineers = {'Petr', 'Ivan', 'Fedor', 'Anna', 'Victoriya'}\n",
        "managers = {'Petr', 'Anna', 'Boris'}\n",
        "\n",
        "'Fedor' in engineers # Является ли сотрудник инженером?"
      ],
      "metadata": {
        "colab": {
          "base_uri": "https://localhost:8080/"
        },
        "id": "W2a57ydPFTqL",
        "outputId": "9cea9d16-37b5-47fc-e5ae-a893d2ed65af"
      },
      "execution_count": null,
      "outputs": [
        {
          "output_type": "execute_result",
          "data": {
            "text/plain": [
              "True"
            ]
          },
          "metadata": {},
          "execution_count": 113
        }
      ]
    },
    {
      "cell_type": "markdown",
      "source": [
        "# **Хеширование и хеш-таблицы**"
      ],
      "metadata": {
        "id": "uZrnDwosGWvs"
      }
    },
    {
      "cell_type": "code",
      "source": [
        "text = \"hello\"\n",
        "hash_value = hash(text)  # Возвращает целое число (может быть разным в разных запусках)\n",
        "hash_value"
      ],
      "metadata": {
        "colab": {
          "base_uri": "https://localhost:8080/"
        },
        "id": "n2tDUNwWGVWQ",
        "outputId": "b8f20411-4106-4d69-d4cb-97e869d15630"
      },
      "execution_count": null,
      "outputs": [
        {
          "output_type": "execute_result",
          "data": {
            "text/plain": [
              "-7472271488600783958"
            ]
          },
          "metadata": {},
          "execution_count": 4
        }
      ]
    },
    {
      "cell_type": "code",
      "source": [
        "text_n = \"hello1\"\n",
        "hash_value_n = hash(text_n)\n",
        "hash_value_n"
      ],
      "metadata": {
        "colab": {
          "base_uri": "https://localhost:8080/"
        },
        "id": "QCgp_UTHGV-3",
        "outputId": "650a85cc-3e17-481c-81d5-52880bb1ec1a"
      },
      "execution_count": null,
      "outputs": [
        {
          "output_type": "execute_result",
          "data": {
            "text/plain": [
              "2234659887909580801"
            ]
          },
          "metadata": {},
          "execution_count": 3
        }
      ]
    },
    {
      "cell_type": "code",
      "source": [
        "import hashlib\n",
        "password = \"тест\"\n",
        "\n",
        "# Хеш без соли (SHA-256)\n",
        "hash1 = hashlib.sha256(password.encode()).hexdigest()\n",
        "hash2 = hashlib.sha256(password.encode()).hexdigest()\n",
        "\n",
        "print(hash1)  # 3a77a3b5af6a3a5a5d3f3a5a5d3f3a5a...\n",
        "print(hash1 == hash2)  # True - одинаковые хеши!"
      ],
      "metadata": {
        "id": "uRB043KRGDGo"
      },
      "execution_count": null,
      "outputs": []
    },
    {
      "cell_type": "code",
      "source": [
        "import hashlib\n",
        "import os\n",
        "\n",
        "def hash_password(password, salt):\n",
        "    return hashlib.sha256(salt.encode() + password.encode()).hexdigest()\n",
        "\n",
        "password = \"mysecretpassword\"\n",
        "salt = os.urandom(16).hex()\n",
        "hashed_password = hash_password(password, salt)\n",
        "\n",
        "print(\"Salt:\", salt)\n",
        "print(\"Hashed Password:\", hashed_password)"
      ],
      "metadata": {
        "colab": {
          "base_uri": "https://localhost:8080/"
        },
        "id": "0KeVlJlS0g-I",
        "outputId": "59cb7ca1-66a3-4081-afd1-aa2474fb48f1"
      },
      "execution_count": null,
      "outputs": [
        {
          "output_type": "stream",
          "name": "stdout",
          "text": [
            "Salt: 26a115630e8709dfbc9b4150adc6a030\n",
            "Hashed Password: 89afbb0328ddab1debb137a89e71f31e0bba0287e4cc353bfe92a57f3cdfac12\n"
          ]
        }
      ]
    },
    {
      "cell_type": "code",
      "source": [
        "import os\n",
        "import binascii\n",
        "\n",
        "def hash_with_salt(password, salt=None):\n",
        "    salt = binascii.hexlify(os.urandom(16)).decode() if not salt else salt\n",
        "    hashed = hashlib.pbkdf2_hmac('sha256', password.encode(), salt.encode(), 100000).hex()\n",
        "    return salt, hashed\n",
        "\n",
        "# Один и тот же пароль, но с разной солью\n",
        "salt1, hash1 = hash_with_salt(\"тест\")\n",
        "salt2, hash2 = hash_with_salt(\"тест\")\n",
        "\n",
        "print(f\"Соль 1: {salt1} | Хеш: {hash1}\")\n",
        "print(f\"Соль 2: {salt2} | Хеш: {hash2}\")\n",
        "print(f\"Хеши одинаковые? {hash1 == hash2}\")"
      ],
      "metadata": {
        "colab": {
          "base_uri": "https://localhost:8080/"
        },
        "id": "OPKQm_-L4-xZ",
        "outputId": "77ba71df-8280-4603-e84e-596ae7fa15c1"
      },
      "execution_count": null,
      "outputs": [
        {
          "output_type": "stream",
          "name": "stdout",
          "text": [
            "Соль 1: 0a8f8acc79ce83bc0c1befff1c216a61 | Хеш: 8b34f9b9f647e30180863f1d6a3aed3a97b4828d1f92b4700f7a45c8cd9ddd86\n",
            "Соль 2: e6cf8e9a95865e746896127c82b86dec | Хеш: f15dda63fe80d77b6fa49e578daf437f0b3f31848dabbc161ed53db59b79f700\n",
            "Хеши одинаковые? False\n"
          ]
        }
      ]
    },
    {
      "cell_type": "code",
      "source": [],
      "metadata": {
        "id": "1FAl_9j0GMLD"
      },
      "execution_count": null,
      "outputs": []
    },
    {
      "cell_type": "code",
      "source": [
        "# Простая хеш-функция для строк\n",
        "def hash_func(key, table_size):\n",
        "    \"\"\"Возвращает индекс в таблице для строкового ключа\"\"\"\n",
        "    hash_sum = 0\n",
        "    for char in str(key):d =d\n",
        "        hash_sum += ord(char)  # Сумма кодов символов\n",
        "    return hash_sum % table_size  # Остаток от деления на размер"
      ],
      "metadata": {
        "id": "Plb2hGOqHMmy"
      },
      "execution_count": null,
      "outputs": []
    },
    {
      "cell_type": "code",
      "source": [
        "# Пример коллизии\n",
        "def hash_func(key, table_size):\n",
        "    return key % table_size  # Простейшая хеш-функция\n",
        "\n",
        "# Ключи 3 и 8 дадут коллизию при table_size=5\n",
        "print(hash_func(3, 5))  # 3\n",
        "print(hash_func(8, 5))  # 3 (коллизия!)"
      ],
      "metadata": {
        "colab": {
          "base_uri": "https://localhost:8080/"
        },
        "id": "g3kUjeSAIIJI",
        "outputId": "6c01017c-b3f3-4b80-924b-e6fe82aee869"
      },
      "execution_count": null,
      "outputs": [
        {
          "output_type": "stream",
          "name": "stdout",
          "text": [
            "3\n",
            "3\n"
          ]
        }
      ]
    },
    {
      "cell_type": "code",
      "source": [
        "# Реализация хеш-таблицы\n",
        "def create_hash_table(size):\n",
        "    \"\"\"Создаёт хеш-таблицу заданного размера\"\"\"\n",
        "    return [[] for _ in range(size)]  # Массив списков для цепочек\n",
        "\n",
        "def insert(table, key, value):\n",
        "    \"\"\"Добавляет пару ключ-значение в таблицу\"\"\"\n",
        "    index = hash_func(key, len(table))\n",
        "    bucket = table[index]\n",
        "    for i, (k, v) in enumerate(bucket):\n",
        "        if k == key:\n",
        "            bucket[i] = (key, value)  # Обновить, если ключ есть\n",
        "            return\n",
        "    bucket.append((key, value))  # Добавить новую запись\n",
        "\n",
        "def get(table, key):\n",
        "    \"\"\"Возвращает значение по ключу или None\"\"\"\n",
        "    index = hash_func(key, len(table))\n",
        "    bucket = table[index]\n",
        "    for k, v in bucket:\n",
        "        if k == key:\n",
        "            return v\n",
        "    return None"
      ],
      "metadata": {
        "id": "89I5qnYaHXtD"
      },
      "execution_count": null,
      "outputs": []
    },
    {
      "cell_type": "code",
      "source": [
        "# Создаём таблицу\n",
        "table_size = 10\n",
        "hash_table = create_hash_table(table_size)\n",
        "\n",
        "# Добавляем данные\n",
        "insert(hash_table, \"name\", \"Alice\")\n",
        "insert(hash_table, \"age\", 25)\n",
        "\n",
        "# Получаем данные\n",
        "print(get(hash_table, \"name\"))\n",
        "print(get(hash_table, \"age\"))\n",
        "print(get(hash_table, \"city\"))"
      ],
      "metadata": {
        "colab": {
          "base_uri": "https://localhost:8080/"
        },
        "id": "Q1LaXppyHd7y",
        "outputId": "7865956f-a123-4088-e179-f0ded50df72c"
      },
      "execution_count": null,
      "outputs": [
        {
          "output_type": "stream",
          "name": "stdout",
          "text": [
            "Alice\n",
            "25\n",
            "None\n"
          ]
        }
      ]
    },
    {
      "cell_type": "code",
      "source": [
        "hash_table"
      ],
      "metadata": {
        "colab": {
          "base_uri": "https://localhost:8080/"
        },
        "id": "VfFwkyv2HrWQ",
        "outputId": "2b6b7850-52b9-4622-be7b-39ea991bd71d"
      },
      "execution_count": null,
      "outputs": [
        {
          "output_type": "execute_result",
          "data": {
            "text/plain": [
              "[[], [('age', 25)], [], [], [], [], [], [('name', 'Alice')], [], []]"
            ]
          },
          "metadata": {},
          "execution_count": 124
        }
      ]
    },
    {
      "cell_type": "markdown",
      "source": [
        "# **Практический пример №1 - Система управления складом**"
      ],
      "metadata": {
        "id": "MoWmznBwJvFg"
      }
    },
    {
      "cell_type": "code",
      "source": [
        "# База данных товаров\n",
        "warehouse = {\n",
        "    1001: {\"name\": \"Ноутбук\", \"price\": 45000, \"quantity\": 10, \"category\": \"Электроника\"},\n",
        "    1002: {\"name\": \"Смартфон\", \"price\": 25000, \"quantity\": 25, \"category\": \"Электроника\"},\n",
        "    1003: {\"name\": \"Книга\", \"price\": 500, \"quantity\": 100, \"category\": \"Книги\"},\n",
        "    1004: {\"name\": \"Наушники\", \"price\": 3000, \"quantity\": 30, \"category\": \"Электроника\"},\n",
        "}"
      ],
      "metadata": {
        "id": "PtF0O7LhKS9S"
      },
      "execution_count": null,
      "outputs": []
    },
    {
      "cell_type": "code",
      "source": [
        "def add_product(warehouse, product_id, name, price, quantity, category):\n",
        "    if product_id in warehouse:\n",
        "        print(f\"Ошибка: Товар с ID {product_id} уже существует!\")\n",
        "    else:\n",
        "        warehouse[product_id] = {\n",
        "            \"name\": name,\n",
        "            \"price\": price,\n",
        "            \"quantity\": quantity,\n",
        "            \"category\": category,\n",
        "        }\n",
        "        print(f\"Товар '{name}' успешно добавлен!\")\n",
        "\n",
        "# Пример добавления:\n",
        "add_product(warehouse, 1005, \"Мышь\", 1500, 50, \"Электроника\")"
      ],
      "metadata": {
        "colab": {
          "base_uri": "https://localhost:8080/"
        },
        "id": "HOnvROp7KcNw",
        "outputId": "69cb483a-61ab-4b46-a1b4-02a99f69a857"
      },
      "execution_count": null,
      "outputs": [
        {
          "output_type": "stream",
          "name": "stdout",
          "text": [
            "Товар 'Мышь' успешно добавлен!\n"
          ]
        }
      ]
    },
    {
      "cell_type": "code",
      "source": [
        "def find_product(warehouse, product_id):\n",
        "    return warehouse.get(product_id, \"Товар не найден\")\n",
        "\n",
        "# Пример поиска:\n",
        "print(find_product(warehouse, 1002))\n",
        "print(find_product(warehouse, 9999))"
      ],
      "metadata": {
        "colab": {
          "base_uri": "https://localhost:8080/"
        },
        "id": "Yrtx8gDQKppU",
        "outputId": "544f379e-94a9-4cd5-db19-889e53e9f3ff"
      },
      "execution_count": null,
      "outputs": [
        {
          "output_type": "stream",
          "name": "stdout",
          "text": [
            "{'name': 'Смартфон', 'price': 25000, 'quantity': 25, 'category': 'Электроника'}\n",
            "Товар не найден\n"
          ]
        }
      ]
    },
    {
      "cell_type": "code",
      "source": [
        "def update_quantity(warehouse, product_id, change):\n",
        "    if product_id in warehouse:\n",
        "        warehouse[product_id][\"quantity\"] += change\n",
        "        print(f\"Количество товара обновлено. Новый остаток: {warehouse[product_id]['quantity']}\")\n",
        "    else:\n",
        "        print(\"Ошибка: Товар не найден!\")\n",
        "\n",
        "# Пример:\n",
        "update_quantity(warehouse, 1001, -2)  # Продали 2 ноутбука\n",
        "update_quantity(warehouse, 1003, 50)  # Завезли 50 книг"
      ],
      "metadata": {
        "colab": {
          "base_uri": "https://localhost:8080/"
        },
        "id": "Yuhi69-FKylh",
        "outputId": "7c2035b9-394b-4597-a698-372ed3cab25b"
      },
      "execution_count": null,
      "outputs": [
        {
          "output_type": "stream",
          "name": "stdout",
          "text": [
            "Количество товара обновлено. Новый остаток: 8\n",
            "Количество товара обновлено. Новый остаток: 150\n"
          ]
        }
      ]
    },
    {
      "cell_type": "code",
      "source": [
        "# Получение списка товаров по категории\n",
        "def get_products_by_category(warehouse, category):\n",
        "    return {id: product for id, product in warehouse.items() if product[\"category\"] == category}\n",
        "\n",
        "# Пример:\n",
        "print(get_products_by_category(warehouse, \"Электроника\"))"
      ],
      "metadata": {
        "colab": {
          "base_uri": "https://localhost:8080/"
        },
        "id": "9FhhrCCmK4gJ",
        "outputId": "7b389d48-819f-4b94-f13b-ef0dead13ecb"
      },
      "execution_count": null,
      "outputs": [
        {
          "output_type": "stream",
          "name": "stdout",
          "text": [
            "{1001: {'name': 'Ноутбук', 'price': 45000, 'quantity': 8, 'category': 'Электроника'}, 1002: {'name': 'Смартфон', 'price': 25000, 'quantity': 25, 'category': 'Электроника'}, 1004: {'name': 'Наушники', 'price': 3000, 'quantity': 30, 'category': 'Электроника'}, 1005: {'name': 'Мышь', 'price': 1500, 'quantity': 50, 'category': 'Электроника'}}\n"
          ]
        }
      ]
    },
    {
      "cell_type": "code",
      "source": [
        "def calculate_total_value(warehouse):\n",
        "    return sum(product[\"price\"] * product[\"quantity\"] for product in warehouse.values())\n",
        "\n",
        "# Пример:\n",
        "print(f\"Общая стоимость товаров: {calculate_total_value(warehouse)} руб.\")"
      ],
      "metadata": {
        "colab": {
          "base_uri": "https://localhost:8080/"
        },
        "id": "WwdUtjbxK87B",
        "outputId": "863091b0-49cb-489b-d159-1c746227da65"
      },
      "execution_count": null,
      "outputs": [
        {
          "output_type": "stream",
          "name": "stdout",
          "text": [
            "Общая стоимость товаров: 1225000 руб.\n"
          ]
        }
      ]
    },
    {
      "cell_type": "markdown",
      "source": [
        "# **Практический пример №2 - Система авторизации**"
      ],
      "metadata": {
        "id": "6YZB78v34GEc"
      }
    },
    {
      "cell_type": "code",
      "source": [
        "import hashlib\n",
        "import getpass  # Для скрытого ввода пароля\n",
        "import os\n",
        "import binascii\n",
        "\n",
        "# Имитация базы данных пользователей\n",
        "users_db = {\n",
        "    # Формат: username: (salt, hashed_password)\n",
        "    \"alice\": (None, None),\n",
        "    \"bob\": (None, None)\n",
        "}\n",
        "\n",
        "def create_password_hash(password: str, salt: str = None) -> tuple:\n",
        "    \"\"\"Создает соль и хеш пароля\"\"\"\n",
        "    if not salt:\n",
        "        # Генерируем случайную соль (32 байта)\n",
        "        salt = binascii.hexlify(os.urandom(16)).decode()\n",
        "\n",
        "    # Создаем хеш: SHA-256(пароль + соль)\n",
        "    hashed = hashlib.pbkdf2_hmac(\n",
        "        'sha256',\n",
        "        password.encode('utf-8'),\n",
        "        salt.encode('utf-8'),\n",
        "        100000  # Количество итераций\n",
        "    ).hex()\n",
        "\n",
        "    return salt, hashed\n",
        "\n",
        "def register_user():\n",
        "    \"\"\"Регистрация нового пользователя\"\"\"\n",
        "    print(\"\\n--- Регистрация ---\")\n",
        "    username = input(\"Придумайте логин: \")\n",
        "\n",
        "    if username in users_db:\n",
        "        print(\"Такой пользователь уже существует!\")\n",
        "        return\n",
        "\n",
        "    # Скрытый ввод пароля\n",
        "    password = getpass.getpass(\"Придумайте пароль: \")\n",
        "    confirm = getpass.getpass(\"Повторите пароль: \")\n",
        "\n",
        "    if password != confirm:\n",
        "        print(\"Пароли не совпадают!\")\n",
        "        return\n",
        "\n",
        "    # Создаем хеш пароля\n",
        "    salt, hashed = create_password_hash(password)\n",
        "    users_db[username] = (salt, hashed)\n",
        "    print(f\"Пользователь {username} успешно зарегистрирован!\")\n",
        "    print(f\"Соль: {salt}\")\n",
        "    print(f\"Хеш пароля: {hashed}\")\n",
        "\n",
        "def login_user():\n",
        "    \"\"\"Аутентификация пользователя\"\"\"\n",
        "    print(\"\\n--- Вход в систему ---\")\n",
        "    username = input(\"Ваш логин: \")\n",
        "\n",
        "    if username not in users_db:\n",
        "        print(\"Пользователь не найден!\")\n",
        "        return False\n",
        "\n",
        "    password = getpass.getpass(\"Ваш пароль: \")\n",
        "    salt, stored_hash = users_db[username]\n",
        "\n",
        "    # Хешируем введенный пароль с той же солью\n",
        "    _, new_hash = create_password_hash(password, salt)\n",
        "\n",
        "    if new_hash == stored_hash:\n",
        "        print(\"Доступ разрешен! Добро пожаловать в систему.\")\n",
        "        return True\n",
        "    else:\n",
        "        print(\"Неверный пароль! Попробуйте еще раз.\")\n",
        "        return False\n",
        "\n",
        "def main():\n",
        "    \"\"\"Основная функция\"\"\"\n",
        "    # Регистрируем тестовых пользователей\n",
        "    print(\"Давайте зарегистрируем тестового пользователя...\")\n",
        "    register_user()\n",
        "\n",
        "    # Пытаемся войти\n",
        "    print(\"\\nТеперь попробуем войти в систему...\")\n",
        "    while not login_user():\n",
        "        pass\n",
        "\n",
        "if __name__ == \"__main__\":\n",
        "    main()"
      ],
      "metadata": {
        "colab": {
          "base_uri": "https://localhost:8080/"
        },
        "id": "GVqTnDhq2wTk",
        "outputId": "f764d81a-fe51-4c7c-bd0d-bcd9f5b62a3a"
      },
      "execution_count": null,
      "outputs": [
        {
          "output_type": "stream",
          "name": "stdout",
          "text": [
            "Давайте зарегистрируем тестового пользователя...\n",
            "\n",
            "--- Регистрация ---\n",
            "Придумайте логин: ilya\n",
            "Придумайте пароль: ··········\n",
            "Повторите пароль: ··········\n",
            "Пользователь ilya успешно зарегистрирован!\n",
            "Соль: 5ed108e0b0acd43887c14cfc3aadb9ba\n",
            "Хеш пароля: 78952bd112666cc8a9d456c26377ca5d3bc830525a41b2cd132575ad891ac92a\n",
            "\n",
            "Теперь попробуем войти в систему...\n",
            "\n",
            "--- Вход в систему ---\n",
            "Ваш логин: ilya\n",
            "Ваш пароль: ··········\n",
            "Неверный пароль! Попробуйте еще раз.\n",
            "\n",
            "--- Вход в систему ---\n",
            "Ваш логин: ilya\n",
            "Ваш пароль: ··········\n",
            "Доступ разрешен! Добро пожаловать в систему.\n"
          ]
        }
      ]
    },
    {
      "cell_type": "code",
      "source": [
        "users_db"
      ],
      "metadata": {
        "colab": {
          "base_uri": "https://localhost:8080/"
        },
        "id": "Jke-K7d83FFu",
        "outputId": "51715a9a-fc0c-4a15-d02b-9383a0abc51a"
      },
      "execution_count": null,
      "outputs": [
        {
          "output_type": "execute_result",
          "data": {
            "text/plain": [
              "{'alice': (None, None),\n",
              " 'bob': (None, None),\n",
              " 'ilya': ('5ed108e0b0acd43887c14cfc3aadb9ba',\n",
              "  '78952bd112666cc8a9d456c26377ca5d3bc830525a41b2cd132575ad891ac92a')}"
            ]
          },
          "metadata": {},
          "execution_count": 14
        }
      ]
    }
  ]
}